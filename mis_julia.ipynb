{
 "cells": [
  {
   "cell_type": "markdown",
   "source": [
    "# Maximum Independent Set problem"
   ],
   "metadata": {}
  },
  {
   "cell_type": "markdown",
   "source": [
    "On a graph $G=(V,E)$, an _independent set_ $S$ is a a subset of vertices that has no common edges\n",
    "$$\\forall x,y \\in S,\\quad xy\\notin E.$$\n",
    "A _maximum independent set_ is an independent set of maximum cardinality."
   ],
   "metadata": {}
  },
  {
   "cell_type": "markdown",
   "source": [
    "Consider the following graph $G$\n",
    "\n",
    "```text\n",
    " 5       4\n",
    "  \\     /\n",
    "   \\   /\n",
    "     1\n",
    "    / \\\n",
    "   /   \\\n",
    "  2 --- 3\n",
    "```\n",
    "\n",
    "There are two MIS in this graph: $(2,4,5)$ and $(3,4,5)$.\n",
    "\n",
    "We can represent $G$ in Julia using its size $n=5$ and the list of its edges, implicitly labelling the vertices from 1 to $n$."
   ],
   "metadata": {}
  },
  {
   "cell_type": "code",
   "execution_count": 1,
   "source": [
    "n = 5\n",
    "e = Array([(1, 2),(1, 3),(1, 4),(1, 5),(2, 3)]);"
   ],
   "outputs": [],
   "metadata": {}
  },
  {
   "cell_type": "markdown",
   "source": [
    "Using [`SimpleGraphs`](https://github.com/scheinerman/SimpleGraphs.jl) (or other libraries), we can inspect the graph defined by the list of edges `e`."
   ],
   "metadata": {}
  },
  {
   "cell_type": "code",
   "execution_count": 2,
   "source": [
    "using SimpleGraphs\n"
   ],
   "outputs": [],
   "metadata": {}
  },
  {
   "cell_type": "code",
   "execution_count": 3,
   "source": [
    "G = IntGraph(n)\n",
    "add_edges!(G, e)\n",
    "println(\"Vertices: $(vlist(G))\")\n",
    "println(\"Edges: $(elist(G))\")"
   ],
   "outputs": [
    {
     "output_type": "stream",
     "name": "stdout",
     "text": [
      "Vertices: [1, 2, 3, 4, 5]\n",
      "Edges: [(1, 2), (1, 3), (1, 4), (1, 5), (2, 3)]\n"
     ]
    }
   ],
   "metadata": {}
  },
  {
   "cell_type": "code",
   "execution_count": 4,
   "source": [
    "using DrawSimpleGraphs\n",
    "\n",
    "embed(G, :spring)\n",
    "set_vertex_size(G, 10)\n",
    "draw(G)\n",
    "draw_labels(G)"
   ],
   "outputs": [
    {
     "output_type": "execute_result",
     "data": {
      "image/svg+xml": "<?xml version=\"1.0\" encoding=\"utf-8\"?>\n<svg xmlns=\"http://www.w3.org/2000/svg\" xmlns:xlink=\"http://www.w3.org/1999/xlink\" width=\"600\" height=\"400\" viewBox=\"0 0 2400 1600\">\n<defs>\n  <clipPath id=\"clip510\">\n    <rect x=\"0\" y=\"0\" width=\"2400\" height=\"1600\"/>\n  </clipPath>\n</defs>\n<path clip-path=\"url(#clip510)\" d=\"\nM0 1600 L2400 1600 L2400 0 L0 0  Z\n  \" fill=\"#ffffff\" fill-rule=\"evenodd\" fill-opacity=\"1\"/>\n<defs>\n  <clipPath id=\"clip511\">\n    <rect x=\"480\" y=\"0\" width=\"1681\" height=\"1600\"/>\n  </clipPath>\n</defs>\n<path clip-path=\"url(#clip510)\" d=\"\nM47.2441 1552.76 L2352.76 1552.76 L2352.76 47.2441 L47.2441 47.2441  Z\n  \" fill=\"#ffffff\" fill-rule=\"evenodd\" fill-opacity=\"1\"/>\n<defs>\n  <clipPath id=\"clip512\">\n    <rect x=\"47\" y=\"47\" width=\"2307\" height=\"1507\"/>\n  </clipPath>\n</defs>\n<polyline clip-path=\"url(#clip512)\" style=\"stroke:#000000; stroke-linecap:butt; stroke-linejoin:round; stroke-width:4; stroke-opacity:1; fill:none\" points=\"\n  1163.1,836.902 1162.36,210.924 \n  \"/>\n<polyline clip-path=\"url(#clip512)\" style=\"stroke:#000000; stroke-linecap:butt; stroke-linejoin:round; stroke-width:4; stroke-opacity:1; fill:none\" points=\"\n  1163.1,836.902 1725.37,901.348 \n  \"/>\n<polyline clip-path=\"url(#clip512)\" style=\"stroke:#000000; stroke-linecap:butt; stroke-linejoin:round; stroke-width:4; stroke-opacity:1; fill:none\" points=\"\n  1163.1,836.902 1910.15,89.8529 \n  \"/>\n<polyline clip-path=\"url(#clip512)\" style=\"stroke:#000000; stroke-linecap:butt; stroke-linejoin:round; stroke-width:4; stroke-opacity:1; fill:none\" points=\"\n  1163.1,836.902 489.853,1510.15 \n  \"/>\n<polyline clip-path=\"url(#clip512)\" style=\"stroke:#000000; stroke-linecap:butt; stroke-linejoin:round; stroke-width:4; stroke-opacity:1; fill:none\" points=\"\n  1162.36,210.924 1725.37,901.348 \n  \"/>\n<circle clip-path=\"url(#clip512)\" cx=\"1163.1\" cy=\"836.902\" r=\"36\" fill=\"#ffffff\" fill-rule=\"evenodd\" fill-opacity=\"1\" stroke=\"#000000\" stroke-opacity=\"1\" stroke-width=\"3.2\"/>\n<circle clip-path=\"url(#clip512)\" cx=\"1162.36\" cy=\"210.924\" r=\"36\" fill=\"#ffffff\" fill-rule=\"evenodd\" fill-opacity=\"1\" stroke=\"#000000\" stroke-opacity=\"1\" stroke-width=\"3.2\"/>\n<circle clip-path=\"url(#clip512)\" cx=\"1725.37\" cy=\"901.348\" r=\"36\" fill=\"#ffffff\" fill-rule=\"evenodd\" fill-opacity=\"1\" stroke=\"#000000\" stroke-opacity=\"1\" stroke-width=\"3.2\"/>\n<circle clip-path=\"url(#clip512)\" cx=\"1910.15\" cy=\"89.8529\" r=\"36\" fill=\"#ffffff\" fill-rule=\"evenodd\" fill-opacity=\"1\" stroke=\"#000000\" stroke-opacity=\"1\" stroke-width=\"3.2\"/>\n<circle clip-path=\"url(#clip512)\" cx=\"489.853\" cy=\"1510.15\" r=\"36\" fill=\"#ffffff\" fill-rule=\"evenodd\" fill-opacity=\"1\" stroke=\"#000000\" stroke-opacity=\"1\" stroke-width=\"3.2\"/>\n<path clip-path=\"url(#clip510)\" d=\"M1913.16 76.647 L1901.35 95.0959 L1913.16 95.0959 L1913.16 76.647 M1911.93 72.5729 L1917.81 72.5729 L1917.81 95.0959 L1922.74 95.0959 L1922.74 98.9848 L1917.81 98.9848 L1917.81 107.133 L1913.16 107.133 L1913.16 98.9848 L1897.55 98.9848 L1897.55 94.471 L1911.93 72.5729 Z\" fill=\"#000000\" fill-rule=\"evenodd\" fill-opacity=\"1\" /><path clip-path=\"url(#clip510)\" d=\"M1157.01 224.269 L1173.33 224.269 L1173.33 228.204 L1151.39 228.204 L1151.39 224.269 Q1154.05 221.514 1158.63 216.885 Q1163.24 212.232 1164.42 210.89 Q1166.66 208.366 1167.54 206.63 Q1168.45 204.871 1168.45 203.181 Q1168.45 200.427 1166.5 198.691 Q1164.58 196.954 1161.48 196.954 Q1159.28 196.954 1156.83 197.718 Q1154.4 198.482 1151.62 200.033 L1151.62 195.311 Q1154.44 194.177 1156.9 193.598 Q1159.35 193.019 1161.39 193.019 Q1166.76 193.019 1169.95 195.704 Q1173.15 198.39 1173.15 202.88 Q1173.15 205.01 1172.34 206.931 Q1171.55 208.829 1169.44 211.422 Q1168.86 212.093 1165.76 215.311 Q1162.66 218.505 1157.01 224.269 Z\" fill=\"#000000\" fill-rule=\"evenodd\" fill-opacity=\"1\" /><path clip-path=\"url(#clip510)\" d=\"M1729.62 899.993 Q1732.97 900.711 1734.85 902.98 Q1736.75 905.248 1736.75 908.581 Q1736.75 913.697 1733.23 916.498 Q1729.71 919.299 1723.23 919.299 Q1721.05 919.299 1718.74 918.859 Q1716.45 918.442 1713.99 917.586 L1713.99 913.072 Q1715.94 914.206 1718.25 914.785 Q1720.57 915.364 1723.09 915.364 Q1727.49 915.364 1729.78 913.628 Q1732.09 911.892 1732.09 908.581 Q1732.09 905.526 1729.94 903.813 Q1727.81 902.077 1723.99 902.077 L1719.96 902.077 L1719.96 898.234 L1724.18 898.234 Q1727.63 898.234 1729.45 896.869 Q1731.28 895.48 1731.28 892.887 Q1731.28 890.225 1729.39 888.813 Q1727.51 887.378 1723.99 887.378 Q1722.07 887.378 1719.87 887.794 Q1717.67 888.211 1715.03 889.091 L1715.03 884.924 Q1717.7 884.183 1720.01 883.813 Q1722.35 883.443 1724.41 883.443 Q1729.73 883.443 1732.83 885.873 Q1735.94 888.281 1735.94 892.401 Q1735.94 895.271 1734.29 897.262 Q1732.65 899.23 1729.62 899.993 Z\" fill=\"#000000\" fill-rule=\"evenodd\" fill-opacity=\"1\" /><path clip-path=\"url(#clip510)\" d=\"M480.131 1492.87 L498.487 1492.87 L498.487 1496.8 L484.413 1496.8 L484.413 1505.27 Q485.432 1504.93 486.45 1504.77 Q487.469 1504.58 488.487 1504.58 Q494.274 1504.58 497.654 1507.75 Q501.033 1510.92 501.033 1516.34 Q501.033 1521.92 497.561 1525.02 Q494.089 1528.1 487.77 1528.1 Q485.594 1528.1 483.325 1527.73 Q481.08 1527.36 478.672 1526.62 L478.672 1521.92 Q480.756 1523.05 482.978 1523.61 Q485.2 1524.16 487.677 1524.16 Q491.682 1524.16 494.02 1522.06 Q496.358 1519.95 496.358 1516.34 Q496.358 1512.73 494.02 1510.62 Q491.682 1508.52 487.677 1508.52 Q485.802 1508.52 483.927 1508.93 Q482.075 1509.35 480.131 1510.23 L480.131 1492.87 Z\" fill=\"#000000\" fill-rule=\"evenodd\" fill-opacity=\"1\" /><path clip-path=\"url(#clip510)\" d=\"M1153.48 850.247 L1161.12 850.247 L1161.12 823.881 L1152.81 825.548 L1152.81 821.289 L1161.07 819.622 L1165.75 819.622 L1165.75 850.247 L1173.39 850.247 L1173.39 854.182 L1153.48 854.182 L1153.48 850.247 Z\" fill=\"#000000\" fill-rule=\"evenodd\" fill-opacity=\"1\" /></svg>\n"
     },
     "metadata": {},
     "execution_count": 4
    }
   ],
   "metadata": {}
  },
  {
   "cell_type": "markdown",
   "source": [
    "## Solving with linear programing \n",
    "\n",
    "A subset of vertices $S$ of $V$ is given by the binary variables $x_i$, $i\\in\\llbracket 1,n\\rrbracket$, that are set to $1$ or $0$ wheter the vertex $i$ belongs or does not belong to $S$.\n",
    "\n",
    "A subset $S$ is a MIS if\n",
    "$$\\sum_{i=1}^n x_i$$\n",
    "is maximal, under the constraints that\n",
    "$$\\forall i,j\\in E,\\quad x_i + x_j \\leq 1.$$\n",
    "\n",
    "This is easily implemented using [`JuMP`](https://jump.dev/), a linear programming tool that uses solvers like `GLPK` to find optimums."
   ],
   "metadata": {}
  },
  {
   "cell_type": "code",
   "execution_count": 5,
   "source": [
    "using JuMP\n",
    "using GLPK"
   ],
   "outputs": [],
   "metadata": {}
  },
  {
   "cell_type": "code",
   "execution_count": 6,
   "source": [
    "model = Model(GLPK.Optimizer)\n",
    "@variable(model, x[i=1:n], Bin)\n",
    "@objective(model, Max, sum(x))\n",
    "@constraint(model, con[i=1:n], x[e[i][1]] + x[e[i][2]] <= 1)\n",
    "print(model)"
   ],
   "outputs": [
    {
     "output_type": "display_data",
     "data": {
      "text/latex": [
       "$$ \\begin{aligned}\n",
       "\\max\\quad & x_{1} + x_{2} + x_{3} + x_{4} + x_{5}\\\\\n",
       "\\text{Subject to} \\quad & x_{1} + x_{2} \\leq 1.0\\\\\n",
       " & x_{1} + x_{3} \\leq 1.0\\\\\n",
       " & x_{1} + x_{4} \\leq 1.0\\\\\n",
       " & x_{1} + x_{5} \\leq 1.0\\\\\n",
       " & x_{2} + x_{3} \\leq 1.0\\\\\n",
       " & x_{1} \\in \\{0, 1\\}\\\\\n",
       " & x_{2} \\in \\{0, 1\\}\\\\\n",
       " & x_{3} \\in \\{0, 1\\}\\\\\n",
       " & x_{4} \\in \\{0, 1\\}\\\\\n",
       " & x_{5} \\in \\{0, 1\\}\\\\\n",
       "\\end{aligned} $$"
      ]
     },
     "metadata": {}
    }
   ],
   "metadata": {}
  },
  {
   "cell_type": "code",
   "execution_count": 7,
   "source": [
    "optimize!(model)"
   ],
   "outputs": [],
   "metadata": {}
  },
  {
   "cell_type": "code",
   "execution_count": 8,
   "source": [
    "@show termination_status(model);\n",
    "@show primal_status(model);\n",
    "@show dual_status(model);\n",
    "@show objective_value(model);\n",
    "@show value.(x);"
   ],
   "outputs": [
    {
     "output_type": "stream",
     "name": "stdout",
     "text": [
      "termination_status(model) = MathOptInterface.OPTIMAL\n",
      "primal_status(model) = MathOptInterface.FEASIBLE_POINT\n",
      "dual_status(model) = MathOptInterface.NO_SOLUTION\n",
      "objective_value(model) = 3.0\n",
      "value.(x) = [0.0, 0.0, 1.0, 1.0, 1.0]\n"
     ]
    }
   ],
   "metadata": {}
  },
  {
   "cell_type": "markdown",
   "source": [
    "## Results"
   ],
   "metadata": {}
  },
  {
   "cell_type": "code",
   "execution_count": 9,
   "source": [
    "println(\"The cardinal of the MIS is $(objective_value(model)).\")\n",
    "println(\"The MIS is $([i for (i, val) in enumerate(value.(x)) if val == 1]).\")"
   ],
   "outputs": [
    {
     "output_type": "stream",
     "name": "stdout",
     "text": [
      "The cardinal of the MIS is 3.0.\n",
      "The MIS is [3, 4, 5].\n"
     ]
    }
   ],
   "metadata": {}
  }
 ],
 "metadata": {
  "orig_nbformat": 4,
  "language_info": {
   "file_extension": ".jl",
   "name": "julia",
   "mimetype": "application/julia",
   "version": "1.5.3"
  },
  "kernelspec": {
   "name": "julia-1.5",
   "display_name": "Julia 1.5.3",
   "language": "julia"
  }
 },
 "nbformat": 4,
 "nbformat_minor": 2
}